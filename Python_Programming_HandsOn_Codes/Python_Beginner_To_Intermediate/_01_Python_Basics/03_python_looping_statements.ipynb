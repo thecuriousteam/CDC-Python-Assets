{
 "cells": [
  {
   "attachments": {},
   "cell_type": "markdown",
   "metadata": {},
   "source": [
    "## Looping statements\n",
    "- for loop\n",
    "  - for var in range(start, end, step)\n",
    "- foreach loop\n",
    "- while loop\n",
    "\n",
    "**Important Message**\n",
    "\n",
    "- 🔰 Notes Link - [Python Learning From Zero to Hero](https://gnnandan.notion.site/Python-Learning-b3aa7ed958fd44659aa1be95f0f225a6)\n",
    "- 🔰 Open Source Developers Community Link (OSDC) - [Curious Developers Community](https://linktr.ee/curiousdevelopers.community) \n",
    "- 🔰 Official Website - [Curious Community Ecosystem](https://curiousdevelopers.in)"
   ]
  },
  {
   "cell_type": "code",
   "execution_count": 1,
   "metadata": {},
   "outputs": [
    {
     "name": "stdout",
     "output_type": "stream",
     "text": [
      "Usage of for loop 1\n",
      "0\n",
      "1\n",
      "2\n",
      "3\n",
      "4\n",
      "5\n",
      "6\n",
      "7\n",
      "8\n",
      "9\n",
      "Usage of for loop 2\n",
      "0\n",
      "2\n",
      "4\n",
      "6\n",
      "8\n",
      "Usage of for loop 3\n",
      "2\n",
      "3\n",
      "4\n",
      "5\n",
      "6\n",
      "7\n",
      "8\n",
      "9\n",
      "Usage of for loop 4\n",
      "2 is there in list\n",
      "Loop Finished\n"
     ]
    }
   ],
   "source": [
    "# for loop\n",
    "\n",
    "print(\"Usage of for loop 1\")\n",
    "for x in range(0,10):\n",
    "  print(x)\n",
    "  \n",
    "print(\"Usage of for loop 2\")\n",
    "\n",
    "for x in range(0,10,2):\n",
    "  print(x)\n",
    "  \n",
    "print(\"Usage of for loop 3\")\n",
    "\n",
    "for x in [2,3,4,5,6,7,8,9]:\n",
    "  print(x)\n",
    "  \n",
    "print(\"Usage of for loop 4\")\n",
    "\n",
    "# foreach loop\n",
    "my_list = [2,3,4,5,6,7,8,9]\n",
    "for x in my_list:\n",
    "  if(x==2):\n",
    "    print(x,\"is there in list\")\n",
    "else:\n",
    "  print(\"Loop Finished\")"
   ]
  },
  {
   "attachments": {},
   "cell_type": "markdown",
   "metadata": {},
   "source": [
    "### For loop with enumerate"
   ]
  },
  {
   "cell_type": "code",
   "execution_count": 1,
   "metadata": {},
   "outputs": [
    {
     "name": "stdout",
     "output_type": "stream",
     "text": [
      "index -> 0 has the color -> red\n",
      "index -> 1 has the color -> yellow\n",
      "index -> 2 has the color -> blue\n"
     ]
    }
   ],
   "source": [
    "colorList = [\"red\",\"yellow\",\"blue\"]\n",
    "# enumerate -> use to iterate through data with a track\n",
    "for i, color in enumerate(colorList):\n",
    "  print(\"index ->\",i,\"has the color ->\",color)"
   ]
  },
  {
   "cell_type": "code",
   "execution_count": 4,
   "metadata": {},
   "outputs": [
    {
     "name": "stdout",
     "output_type": "stream",
     "text": [
      "1\n",
      "2\n",
      "3\n",
      "4\n",
      "5\n"
     ]
    }
   ],
   "source": [
    "# while loop\n",
    "i= 1 #initialization\n",
    "while(i<=5): #condition\n",
    "  print(i)\n",
    "  i=i+1 #incrementation"
   ]
  },
  {
   "attachments": {},
   "cell_type": "markdown",
   "metadata": {},
   "source": [
    "## Break & Continue Statements\n",
    "- Break - With the break statement we can stop the loop even if the while/for condition is true\n",
    "- Continue - With the continue statement we can stop the current iteration, and continue with the next"
   ]
  },
  {
   "cell_type": "code",
   "execution_count": 2,
   "metadata": {},
   "outputs": [
    {
     "name": "stdout",
     "output_type": "stream",
     "text": [
      "2\n",
      "4\n",
      "6\n",
      "8\n",
      "10\n",
      "12\n"
     ]
    }
   ],
   "source": [
    "#break with for loop\n",
    "my_list = [2, 4, 6, 8, 10, 12, 13, 14, 16]\n",
    "\n",
    "# this program stops execution if it finds the odd number\n",
    "for x in my_list:\n",
    "  if(x%2!=0):\n",
    "    break \n",
    "  else:\n",
    "    print(x)"
   ]
  },
  {
   "cell_type": "code",
   "execution_count": 17,
   "metadata": {},
   "outputs": [
    {
     "name": "stdout",
     "output_type": "stream",
     "text": [
      "0\n",
      "1\n",
      "2\n",
      "3\n",
      "4\n",
      "5\n"
     ]
    }
   ],
   "source": [
    "# break with while loop\n",
    "# this program stops execution if it finds the number 6\n",
    "i=0\n",
    "while(i < 17):\n",
    "  if(i==6):\n",
    "    break\n",
    "  else:\n",
    "    print(i)\n",
    "  i=i+1\n"
   ]
  },
  {
   "cell_type": "code",
   "execution_count": 18,
   "metadata": {},
   "outputs": [
    {
     "name": "stdout",
     "output_type": "stream",
     "text": [
      "2\n",
      "4\n",
      "6\n",
      "8\n",
      "10\n",
      "12\n",
      "14\n",
      "16\n"
     ]
    }
   ],
   "source": [
    "\n",
    "#continue with for loop\n",
    "my_list = [2, 4, 6, 8, 10, 12, 13, 14, 16]\n",
    "\n",
    "# this program skipps execution if it finds the odd number\n",
    "for x in my_list:\n",
    "  if(x%2!=0):\n",
    "    continue\n",
    "  else:\n",
    "    print(x)"
   ]
  },
  {
   "cell_type": "code",
   "execution_count": 26,
   "metadata": {},
   "outputs": [
    {
     "name": "stdout",
     "output_type": "stream",
     "text": [
      "1\n",
      "2\n",
      "3\n",
      "4\n",
      "5\n",
      "7\n",
      "8\n",
      "9\n",
      "10\n",
      "11\n",
      "12\n"
     ]
    }
   ],
   "source": [
    "# continue with while loop\n",
    "# this program skipps the execution if it finds the number 6\n",
    "i=0\n",
    "while(i < 12):\n",
    "  i=i+1\n",
    "  if(i == 6):\n",
    "    continue\n",
    "  print(i)"
   ]
  },
  {
   "cell_type": "markdown",
   "metadata": {},
   "source": [
    "### Revision"
   ]
  },
  {
   "cell_type": "code",
   "execution_count": 18,
   "metadata": {},
   "outputs": [
    {
     "name": "stdout",
     "output_type": "stream",
     "text": [
      "Apple\n",
      "Mango\n",
      "Orange\n",
      "Banana\n",
      "Watermelon\n",
      "Apple\n",
      "Mango\n",
      "Orange\n",
      "Banana\n",
      "Watermelon\n",
      "(0, 'Apple')\n",
      "(1, 'Mango')\n",
      "(2, 'Orange')\n",
      "(3, 'Banana')\n",
      "(4, 'Watermelon')\n",
      "Apple\n",
      "Mango\n",
      "Orange\n",
      "Banana\n",
      "Watermelon\n"
     ]
    }
   ],
   "source": [
    "# List\n",
    "\n",
    "fruitList = ['Apple','Mango','Orange','Banana','Watermelon']\n",
    "\n",
    "for fruits in fruitList:\n",
    "  print(fruits)\n",
    "\n",
    "for num in range(len(fruitList)):\n",
    "  print(fruitList[num])\n",
    "\n",
    "# for loop with track\n",
    "for fruits in enumerate(fruitList):\n",
    "  print(fruits)\n",
    "  \n",
    "count = 0\n",
    "while(count <= len(fruitList)-1):\n",
    "  print(fruitList[count])\n",
    "  count = count + 1"
   ]
  },
  {
   "cell_type": "code",
   "execution_count": 9,
   "metadata": {},
   "outputs": [
    {
     "name": "stdout",
     "output_type": "stream",
     "text": [
      "1\n",
      "2\n",
      "3\n",
      "4\n",
      "aaa\n",
      "bbb\n",
      "ccc\n",
      "(0, 1)\n",
      "(1, 2)\n",
      "(2, 3)\n",
      "(3, 4)\n",
      "(4, 'aaa')\n",
      "(5, 'bbb')\n",
      "(6, 'ccc')\n",
      "1\n",
      "2\n",
      "3\n",
      "4\n",
      "aaa\n",
      "bbb\n",
      "ccc\n",
      "Position  = 0  1\n",
      "Position  = 1  2\n",
      "Position  = 2  3\n",
      "Position  = 3  4\n",
      "Position  = 4  aaa\n",
      "Position  = 5  bbb\n",
      "Position  = 6  ccc\n"
     ]
    },
    {
     "data": {
      "text/plain": [
       "True"
      ]
     },
     "execution_count": 9,
     "metadata": {},
     "output_type": "execute_result"
    }
   ],
   "source": [
    "data  = (1,2,3,4,\"aaa\",\"bbb\",\"ccc\")\n",
    "\n",
    "# looping tuple\n",
    "for eachData in data:\n",
    "  print(eachData)\n",
    "  \n",
    "for eachData in enumerate(data):\n",
    "  print(eachData)\n",
    "  \n",
    "for eachData in range(len(data)):\n",
    "  print(data[eachData])\n",
    "  \n",
    "index = 0\n",
    "while(index < len(data)):\n",
    "  print(f\"Position  = {index} \",data[index])\n",
    "  index = index + 1\n"
   ]
  },
  {
   "cell_type": "code",
   "execution_count": 1,
   "metadata": {},
   "outputs": [
    {
     "name": "stdout",
     "output_type": "stream",
     "text": [
      "1\n",
      "2\n",
      "3\n",
      "4\n",
      "5\n",
      "One\n",
      "Two\n",
      "Three\n",
      "Four\n",
      "Five\n",
      "The key 1, and its value is One\n",
      "The key 2, and its value is Two\n",
      "The key 3, and its value is Three\n",
      "The key 4, and its value is Four\n",
      "The key 5, and its value is Five\n"
     ]
    },
    {
     "data": {
      "text/plain": [
       "{}"
      ]
     },
     "execution_count": 1,
     "metadata": {},
     "output_type": "execute_result"
    }
   ],
   "source": [
    "data = {1:\"One\",2:\"Two\",3:\"Three\",4:\"Four\",5:\"Five\"}\n",
    "\n",
    "# looping dictionary\n",
    "for key in data.keys():\n",
    "  print(key)\n",
    "  \n",
    "for value in data.values():\n",
    "  print(value)\n",
    "  \n",
    "for key,value in data.items():\n",
    "  print(\"The key {key}, and its value is {value}\".format(key=key,value=value))\n"
   ]
  },
  {
   "cell_type": "code",
   "execution_count": null,
   "metadata": {},
   "outputs": [],
   "source": []
  },
  {
   "cell_type": "code",
   "execution_count": null,
   "metadata": {},
   "outputs": [],
   "source": []
  }
 ],
 "metadata": {
  "kernelspec": {
   "display_name": "base",
   "language": "python",
   "name": "python3"
  },
  "language_info": {
   "codemirror_mode": {
    "name": "ipython",
    "version": 3
   },
   "file_extension": ".py",
   "mimetype": "text/x-python",
   "name": "python",
   "nbconvert_exporter": "python",
   "pygments_lexer": "ipython3",
   "version": "3.9.13"
  },
  "orig_nbformat": 4
 },
 "nbformat": 4,
 "nbformat_minor": 2
}
