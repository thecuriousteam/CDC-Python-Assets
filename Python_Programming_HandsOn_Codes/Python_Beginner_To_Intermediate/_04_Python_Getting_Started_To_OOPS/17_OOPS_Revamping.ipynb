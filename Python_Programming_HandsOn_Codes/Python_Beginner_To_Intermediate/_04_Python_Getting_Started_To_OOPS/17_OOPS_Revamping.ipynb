{
 "cells": [
  {
   "cell_type": "code",
   "execution_count": 4,
   "metadata": {},
   "outputs": [
    {
     "name": "stdout",
     "output_type": "stream",
     "text": [
      "Name: ABC, Branch: CSE, Email: abc@gmail.com\n",
      "Name: XYZ, Branch: ISE, Email: xyz@gmail.com)\n"
     ]
    }
   ],
   "source": [
    "# class and object\n",
    "\n",
    "# class creation\n",
    "class data:\n",
    "  name = \"\"\n",
    "  branch = \"\"\n",
    "  email = \"\"\n",
    "  \n",
    "  \n",
    "# object Creation\n",
    "# object 1\n",
    "person1 = data()\n",
    "person1.name = \"ABC\"\n",
    "person1.branch = \"CSE\"\n",
    "person1.email = \"abc@gmail.com\"\n",
    "\n",
    "# object 2\n",
    "person2 = data()\n",
    "person2.name=\"XYZ\"\n",
    "person2.branch = \"ISE\"\n",
    "person2.email = \"xyz@gmail.com\"\n",
    "\n",
    "print(\"Name: {}, Branch: {}, Email: {}\".format(person1.name, person1.branch, person1.email))\n",
    "print(f\"Name: {person2.name}, Branch: {person2.branch}, Email: {person2.email})\")"
   ]
  },
  {
   "cell_type": "code",
   "execution_count": 12,
   "metadata": {},
   "outputs": [
    {
     "name": "stdout",
     "output_type": "stream",
     "text": [
      "Name: ABC, Branch: CSE, Email: abc@gmail.com)\n",
      "Name: XYZ, Branch: ISE, Email: xyz@gmail.com)\n"
     ]
    }
   ],
   "source": [
    "# class and object with __init__()\n",
    "\n",
    "# class creation -> Template\n",
    "class data:\n",
    "  def __init__(self,name,branch,email):\n",
    "    self.name = name\n",
    "    self.branch = branch\n",
    "    self.email = email\n",
    "    print(f\"Name: {self.name}, Branch: {self.branch}, Email: {self.email})\")\n",
    "    \n",
    "# object Creation\n",
    "# object 1\n",
    "person1 = data(\"ABC\",\"CSE\",\"abc@gmail.com\")\n",
    "\n",
    "# object 2\n",
    "person2 = data(name=\"XYZ\",branch=\"ISE\",email=\"xyz@gmail.com\")"
   ]
  },
  {
   "cell_type": "code",
   "execution_count": 52,
   "metadata": {},
   "outputs": [
    {
     "name": "stdout",
     "output_type": "stream",
     "text": [
      "Successfully added 10 -> [10]\n",
      "Successfully added 100 -> [10, 100]\n",
      "Successfully added 100000 -> [10, 100, 100000]\n",
      "Successfully added 1000000000000 -> [10, 100, 100000, 1000000000000]\n",
      "Successfully added 100000000000000000000000 -> [10, 100, 100000, 1000000000000, 100000000000000000000000]\n",
      "Successfully updated with number 1000.0 at the position 1 -> [10, 1000.0, 100000, 1000000000000, 100000000000000000000000]\n",
      "Successfully removed with number 1000.0 -> [10, 100000, 1000000000000, 100000000000000000000000]\n"
     ]
    }
   ],
   "source": [
    "# a list operation\n",
    "\n",
    "class listOperation:\n",
    "  def __init__(self):\n",
    "    self.num = []\n",
    "      \n",
    "    # add operation\n",
    "  def addData(self,insertNum):\n",
    "    self.num.append(insertNum)\n",
    "    print(f\"Successfully added {insertNum} ->\", self.displayData())\n",
    "  \n",
    "  # update operation\n",
    "  def updateData(self,position,updateNum):\n",
    "    if(position >len(self.num)):\n",
    "      print(f\"{position} index is not found in the list\")\n",
    "      self.displayData()\n",
    "    else:\n",
    "      self.num[position] = updateNum\n",
    "      print(f\"Successfully updated with number {updateNum} at the position {position} ->\", self.displayData())\n",
    "  \n",
    "  def removeData(self,inputData):\n",
    "    \n",
    "    if(inputData not in self.num):\n",
    "      print(\"List is empty could not remove\")\n",
    "    else:\n",
    "      if(inputData in self.num):\n",
    "        self.num.remove(inputData)\n",
    "        print(f\"Successfully removed with number {inputData} ->\", self.displayData())\n",
    "        self.displayData()\n",
    "        \n",
    "      else:\n",
    "        print(\"Element is not there\")\n",
    "      \n",
    "  def displayData(self):\n",
    "    return self.num\n",
    "    \n",
    "try1 = listOperation()\n",
    "\n",
    "# add operation\n",
    "try1.addData(10)\n",
    "try1.addData(100)\n",
    "try1.addData(100000)\n",
    "try1.addData(1000000000000)\n",
    "try1.addData(100000000000000000000000)\n",
    "\n",
    "# update operation\n",
    "try1.updateData(1,1000.0)\n",
    "\n",
    "# remove operation\n",
    "try1.removeData(1000.0)\n",
    "\n",
    "# display operation\n",
    "# try1.displayData()"
   ]
  },
  {
   "cell_type": "code",
   "execution_count": null,
   "metadata": {},
   "outputs": [],
   "source": [
    "class ListOperation:\n",
    "    def __init__(self):\n",
    "        # an empty list\n",
    "        self.num = []\n",
    "\n",
    "    # add operation\n",
    "    def addData(self, insertNum):\n",
    "        self.num.append(insertNum)\n",
    "        self.displayData()\n",
    "\n",
    "    # update operation\n",
    "    def updateData(self, position, updateNum):\n",
    "        self.num[position] = updateNum\n",
    "        self.displayData()\n",
    "\n",
    "    def removeData(self, inputData):\n",
    "        self.num.remove(inputData)\n",
    "        self.displayData()\n",
    "\n",
    "    def displayData(self):\n",
    "        return self.num"
   ]
  }
 ],
 "metadata": {
  "kernelspec": {
   "display_name": "base",
   "language": "python",
   "name": "python3"
  },
  "language_info": {
   "codemirror_mode": {
    "name": "ipython",
    "version": 3
   },
   "file_extension": ".py",
   "mimetype": "text/x-python",
   "name": "python",
   "nbconvert_exporter": "python",
   "pygments_lexer": "ipython3",
   "version": "3.9.13"
  },
  "orig_nbformat": 4
 },
 "nbformat": 4,
 "nbformat_minor": 2
}
