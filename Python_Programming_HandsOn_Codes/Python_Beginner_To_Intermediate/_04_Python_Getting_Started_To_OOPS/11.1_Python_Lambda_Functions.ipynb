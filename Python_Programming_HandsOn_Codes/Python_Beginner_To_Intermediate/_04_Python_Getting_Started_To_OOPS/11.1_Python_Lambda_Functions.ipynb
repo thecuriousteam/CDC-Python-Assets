{
 "cells": [
  {
   "cell_type": "markdown",
   "metadata": {},
   "source": [
    "## lamdba functions\n",
    "\n",
    "- syntax\n",
    "\n",
    "lambda args(Parameter) : expressions"
   ]
  },
  {
   "cell_type": "markdown",
   "metadata": {},
   "source": [
    "## Lambda Function\n",
    "\n",
    "- it is an anonymous function\n",
    "- Syntax \n",
    "\n",
    "funcName = lamda parameters: expresssion \n",
    "funcName(parametrs vakue as arguments)"
   ]
  },
  {
   "cell_type": "code",
   "execution_count": 9,
   "metadata": {},
   "outputs": [
    {
     "name": "stdout",
     "output_type": "stream",
     "text": [
      "Value of a:  10  Value of b:  20 Sum of a & b =  30\n",
      "None\n",
      "2\n",
      "4\n"
     ]
    }
   ],
   "source": [
    "storage = lambda a,b : print(\"Value of a: \",a ,\" Value of b: \",b, \"Sum of a & b = \",a+b)\n",
    "\n",
    "print(storage(10, 20))"
   ]
  },
  {
   "cell_type": "code",
   "execution_count": 18,
   "metadata": {},
   "outputs": [
    {
     "name": "stdout",
     "output_type": "stream",
     "text": [
      "[10, 14, 44, 194, 108, 124, 154, 46, 146, 122]\n",
      "[10, 14, 44, 194, 108, 124, 154, 46, 146, 122]\n",
      "<map object at 0x0000023EA7AEC070>\n",
      "('Rakshitha', 'Sushma', 'Boomika', 'Vijay')\n",
      "['Rakshitha', 'Sushma', 'Boomika', 'Vijay']\n",
      "{'Rakshitha', 'Sushma', 'Vijay', 'Boomika'}\n"
     ]
    }
   ],
   "source": [
    "li = [5, 7, 22, 97, 54, 62, 77, 23, 73, 61]\n",
    " \n",
    "final_list = list(map(lambda x: x*2, li))\n",
    "print(final_list)\n",
    "\n",
    "# map(function, iterable, ...)\n",
    "# lambda x: x*2\n",
    "\n",
    "print(list(map((lambda x: x*2), li)))\n",
    "\n",
    "\n",
    "Names = ['rakshitha', 'sushma', 'boomika', 'vijay']\n",
    "\n",
    "\"\"\"\n",
    "1. i formed lambda syntax -> lamda parameters: expresssion after that\n",
    "2. i formed map syntax -> map(function, iterable, ...)\n",
    "3. i'm converting to [list, tuple or set(iterables)] to know what operation has done, (if you did not convert it will so memory address not the result)\n",
    "4. print the result\n",
    "\n",
    "\"\"\"\n",
    "\n",
    "# lamdba function syntax -> lamda parameters: expresssion\n",
    "# map function syntax -> map(function, iterable, ...)\n",
    "\n",
    "print((map(lambda correctName:correctName.title(),Names))) #<map object at 0x0000023EA7AEC070>\n",
    "print(tuple(map(lambda correctName:correctName.title(),Names))) #('Rakshitha', 'Sushma', 'Boomika', 'Vijay')\n",
    "print(list(map(lambda correctName:correctName.title(),Names))) #['Rakshitha', 'Sushma', 'Boomika', 'Vijay']\n",
    "print(set(map(lambda correctName:correctName.title(),Names))) #{'Rakshitha', 'Sushma', 'Vijay', 'Boomika'}"
   ]
  },
  {
   "cell_type": "code",
   "execution_count": null,
   "metadata": {},
   "outputs": [],
   "source": []
  },
  {
   "cell_type": "code",
   "execution_count": null,
   "metadata": {},
   "outputs": [],
   "source": []
  },
  {
   "cell_type": "code",
   "execution_count": null,
   "metadata": {},
   "outputs": [],
   "source": []
  },
  {
   "cell_type": "code",
   "execution_count": null,
   "metadata": {},
   "outputs": [],
   "source": []
  },
  {
   "cell_type": "code",
   "execution_count": null,
   "metadata": {},
   "outputs": [],
   "source": []
  },
  {
   "cell_type": "code",
   "execution_count": null,
   "metadata": {},
   "outputs": [],
   "source": []
  },
  {
   "cell_type": "code",
   "execution_count": 2,
   "metadata": {},
   "outputs": [
    {
     "name": "stdout",
     "output_type": "stream",
     "text": [
      "gnnandan7@gmail.com\n",
      "8\n",
      "287\n"
     ]
    }
   ],
   "source": [
    "myfunc = lambda inputs : print(inputs+\"@gmail.com\")\n",
    "myfunc(\"gnnandan7\")\n",
    "\n",
    "add = lambda a,b : print(a+b)\n",
    "add(3,5)\n",
    "\n",
    "sample = lambda a,b: a**a+b**b+2**a**b\n",
    "print(sample(2,3))\n",
    "\n",
    "\n",
    "\n",
    "\n"
   ]
  },
  {
   "cell_type": "code",
   "execution_count": 12,
   "metadata": {},
   "outputs": [
    {
     "name": "stdout",
     "output_type": "stream",
     "text": [
      "3\n",
      "[3, 6, 12]\n"
     ]
    }
   ],
   "source": [
    "li = [\"aaa\", \"bbbccc\", \"cccssssdfrfr\"] #iterables\n",
    "\n",
    "def count(input):\n",
    "  return len(input)\n",
    "\n",
    "print(count(li))\n",
    "\n",
    "# map(functions, list/tuple/anything(iterable))\n",
    "\n",
    "print(list(map(count,li)))\n",
    "\n"
   ]
  },
  {
   "cell_type": "code",
   "execution_count": null,
   "metadata": {},
   "outputs": [],
   "source": []
  }
 ],
 "metadata": {
  "kernelspec": {
   "display_name": "base",
   "language": "python",
   "name": "python3"
  },
  "language_info": {
   "codemirror_mode": {
    "name": "ipython",
    "version": 3
   },
   "file_extension": ".py",
   "mimetype": "text/x-python",
   "name": "python",
   "nbconvert_exporter": "python",
   "pygments_lexer": "ipython3",
   "version": "3.9.13"
  },
  "orig_nbformat": 4
 },
 "nbformat": 4,
 "nbformat_minor": 2
}
