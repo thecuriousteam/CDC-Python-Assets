{
 "cells": [
  {
   "attachments": {},
   "cell_type": "markdown",
   "metadata": {},
   "source": [
    "## Constructors\n",
    "- A constructor is a special method that is called when an object is created. It is used to initialize the object's attributes or perform any other setup that needs to be done when the object is first created.\n",
    "\n",
    "**Important Message**\n",
    "\n",
    "- 🔰 Notes Link - [Python Learning From Zero to Hero](https://gnnandan.notion.site/Python-Learning-b3aa7ed958fd44659aa1be95f0f225a6)\n",
    "- 🔰 Open Source Developers Community Link (OSDC) - [Curious Developers Community](https://linktr.ee/curiousdevelopers.community) \n",
    "- 🔰 Official Website - [Curious Community Ecosystem](https://curiousdevelopers.in)"
   ]
  },
  {
   "cell_type": "code",
   "execution_count": 3,
   "metadata": {},
   "outputs": [
    {
     "name": "stdout",
     "output_type": "stream",
     "text": [
      "Name - Curious Ecosystem and Website - http://www.curiousdevelopers.in\n"
     ]
    }
   ],
   "source": [
    "# sample python code with constructor\n",
    "\n",
    "class constructorExample: #class\n",
    "  def __init__(self): #__init__() constructor\n",
    "    \n",
    "    # attributes (name and website)\n",
    "    self.name = \"Curious Ecosystem\" \n",
    "    self.website = \"http://www.curiousdevelopers.in\"\n",
    "    \n",
    "    # printing the name and website\n",
    "    print(f\"Name - {self.name} and Website - {self.website}\")\n",
    "\n",
    "# object creation\n",
    "object = constructorExample() "
   ]
  },
  {
   "cell_type": "code",
   "execution_count": 4,
   "metadata": {},
   "outputs": [
    {
     "name": "stdout",
     "output_type": "stream",
     "text": [
      "You can login now\n"
     ]
    }
   ],
   "source": [
    "\"\"\"\n",
    "- A constructor is a special type of method (function) which is used to initialize the instance members of the class.\n",
    "- A constructor is a special method that is called when an object is created. It is used to initialize the object's attributes or perform any other\n",
    "setup that needs to be done when the object is first created.  \n",
    "\"\"\"\n",
    "\n",
    "class authentication:\n",
    "  \n",
    "  # default constructor\n",
    "  def __init__(self):\n",
    "    print(\"This is authentication system\")\n",
    "  \n",
    "  # parameterized  constructor\n",
    "  def __init__(self,username,password):\n",
    "    self.username = username\n",
    "    self.password = password\n",
    "    \n",
    "  # special method\n",
    "  def isAuthorized(self):\n",
    "    if(self.username == \"Nandan\" and self.password == \"abc\"):\n",
    "      print(\"You can login now\")\n",
    "    else: \n",
    "      print(\"Incorrect username or password\")\n",
    "      \n",
    "\n",
    "# loginSession = authentication(\"Nandan\",\"abc\") or blow like that\n",
    "loginSession = authentication(username=\"Nandan\",password=\"abc\")\n",
    "\n",
    "# accessing function of a class with reference varible\n",
    "loginSession.isAuthorized()\n",
    "    "
   ]
  },
  {
   "cell_type": "code",
   "execution_count": 14,
   "metadata": {},
   "outputs": [
    {
     "name": "stdout",
     "output_type": "stream",
     "text": [
      "Hello\n"
     ]
    }
   ],
   "source": [
    "class UserClass():  \n",
    "     def __init__(self):  \n",
    "             self.__fully_private = \"JavaTpoint\"  \n",
    "             self.__fully_private = \"to\"  \n",
    "            #  self._semi_private = \"Hello\"  \n",
    "             self._semi_private = \"Say\"  \n",
    "mc = UserClass()  \n",
    "print(mc._semi_private)  \n",
    "# print(mc.__fully_private)"
   ]
  },
  {
   "cell_type": "code",
   "execution_count": 32,
   "metadata": {},
   "outputs": [
    {
     "name": "stdout",
     "output_type": "stream",
     "text": [
      "10\n",
      "abc\n"
     ]
    }
   ],
   "source": [
    "class example:\n",
    "  def __init__(self):\n",
    "    \n",
    "    # semi private variable\n",
    "    self._name = \"abc\"\n",
    "    \n",
    "    # full private variable\n",
    "    self.__age = \"10\"\n",
    "    \n",
    "    # accessing full private variable\n",
    "    print(self.__age)\n",
    "    \n",
    "nandan = example()\n",
    "# access semi private variable\n",
    "print(nandan._name)\n",
    "# print(nandan.__age) #unable to access fully private variable (example' object has no attribute '__age')\n"
   ]
  },
  {
   "attachments": {},
   "cell_type": "markdown",
   "metadata": {},
   "source": [
    "## Types Of Constructors\n",
    "1. Default Constructor - doesn't take any parameter and created automaticallyby python \n",
    "2. Parameterized Constructor - takes one or more arguments"
   ]
  },
  {
   "cell_type": "code",
   "execution_count": 1,
   "metadata": {},
   "outputs": [
    {
     "name": "stdout",
     "output_type": "stream",
     "text": [
      "default constructor example\n"
     ]
    }
   ],
   "source": [
    "# default constructor\n",
    "class defaultConstructor:\n",
    "  sample = \"default constructor example\"  \n",
    "  pass\n",
    "\n",
    "object = defaultConstructor()\n",
    "print(object.sample)"
   ]
  },
  {
   "cell_type": "code",
   "execution_count": 7,
   "metadata": {},
   "outputs": [
    {
     "name": "stdout",
     "output_type": "stream",
     "text": [
      "My name is Nandan and my age is 24\n",
      "My name is Yashas and my age is 24\n"
     ]
    }
   ],
   "source": [
    "# parameterized constructor\n",
    "\n",
    "class parameterizedConstructorExample:\n",
    "  def __init__(self,name,age): # taking parameter name and age\n",
    "    self.name = name \n",
    "    self.age = age\n",
    "    print(f\"My name is {name} and my age is {age}\")\n",
    "    \n",
    "person1 = parameterizedConstructorExample(name = \"Nandan\", age=24)\n",
    "person2 = parameterizedConstructorExample(\"Yashas\",24)\n",
    "\n",
    "\"\"\"\n",
    "My name is Nandan and my age is 24\n",
    "My name is Yashas and my age is 24\n",
    "\"\"\""
   ]
  },
  {
   "attachments": {},
   "cell_type": "markdown",
   "metadata": {},
   "source": [
    "## Simple Example - Counting number of employees"
   ]
  },
  {
   "cell_type": "code",
   "execution_count": 32,
   "metadata": {},
   "outputs": [
    {
     "name": "stdout",
     "output_type": "stream",
     "text": [
      "Total Number of Employees in Curious ecosystem - 2\n"
     ]
    }
   ],
   "source": [
    "class curiousExcosystem:\n",
    "  empCount = 0\n",
    "  def __init__(self):\n",
    "    curiousExcosystem.empCount = curiousExcosystem.empCount + 1\n",
    "    \n",
    "emp1 = curiousExcosystem()\n",
    "emp2 = curiousExcosystem()\n",
    "print(f\"Total Number of Employees in Curious ecosystem - {curiousExcosystem.empCount}\")"
   ]
  },
  {
   "cell_type": "code",
   "execution_count": null,
   "metadata": {},
   "outputs": [],
   "source": []
  }
 ],
 "metadata": {
  "kernelspec": {
   "display_name": "base",
   "language": "python",
   "name": "python3"
  },
  "language_info": {
   "codemirror_mode": {
    "name": "ipython",
    "version": 3
   },
   "file_extension": ".py",
   "mimetype": "text/x-python",
   "name": "python",
   "nbconvert_exporter": "python",
   "pygments_lexer": "ipython3",
   "version": "3.9.13"
  },
  "orig_nbformat": 4
 },
 "nbformat": 4,
 "nbformat_minor": 2
}
